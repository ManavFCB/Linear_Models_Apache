{
 "cells": [
  {
   "cell_type": "code",
   "execution_count": 1,
   "metadata": {},
   "outputs": [],
   "source": [
    "from MultiLog import MLR,np\n",
    "from pyspark import SparkContext,SparkConf\n",
    "from sklearn.base import copy"
   ]
  },
  {
   "cell_type": "code",
   "execution_count": 2,
   "metadata": {},
   "outputs": [],
   "source": [
    "def fit_in(x,mlr,classes):\n",
    "    for it in x:\n",
    "        X=it[:-1].reshape(1,it.shape[0]-1)\n",
    "        y=np.array([it[-1]])\n",
    "        y=y.astype('int')\n",
    "        mlr.partial_fit(X,y,classes)\n",
    "    yield mlr\n",
    "def update_in(m1,m2):\n",
    "    new_mod=copy.deepcopy(m1)\n",
    "    new_mod.coefs+=m2.coefs\n",
    "    new_mod.intercept+=m2.intercept\n",
    "    return new_mod\n",
    "\n",
    "def avg_coefs_in(mlr,numpart):\n",
    "    mlr.coefs/=numpart\n",
    "    mlr.intercept/=numpart\n",
    "    return mlr"
   ]
  },
  {
   "cell_type": "code",
   "execution_count": 3,
   "metadata": {},
   "outputs": [],
   "source": [
    "conf=SparkConf().setAppName(\"Multilog-SGD\").setMaster('local[4]')\n",
    "sc=SparkContext(conf=conf)"
   ]
  },
  {
   "cell_type": "code",
   "execution_count": 4,
   "metadata": {},
   "outputs": [],
   "source": [
    "X1=np.random.rand(50,2)+2\n",
    "y1=np.zeros(X1.shape[0])\n",
    "X2=2*np.random.rand(50,2)+4\n",
    "y2=np.ones(X2.shape[0])\n",
    "X3=3*np.random.rand(50,2)+7\n",
    "y3=2*np.ones(X3.shape[0])\n",
    "X4=3*np.random.rand(50,2)+11\n",
    "y4=3*np.ones(X4.shape[0])\n",
    "X=np.vstack((X1,X2,X3,X4))\n",
    "y=np.hstack((y1,y2,y3,y4))\n",
    "y=y.astype('int')\n",
    "X=np.hstack((X,y.reshape((y.shape[0],1))))"
   ]
  },
  {
   "cell_type": "code",
   "execution_count": 20,
   "metadata": {},
   "outputs": [],
   "source": [
    "max_iter=450\n",
    "mlr=MLR()\n",
    "n_classes=np.unique(y).shape[0]\n",
    "prev_coef=np.zeros((n_classes,X.shape[1]-1))\n",
    "prev_intercept=np.zeros(n_classes)\n",
    "tol=0.0001"
   ]
  },
  {
   "cell_type": "code",
   "execution_count": 21,
   "metadata": {},
   "outputs": [
    {
     "name": "stdout",
     "output_type": "stream",
     "text": [
      "[[-1.75529612 -1.88643488]\n",
      " [-0.42578834 -0.44250291]\n",
      " [ 0.53080765  0.42046248]\n",
      " [ 1.65027681  1.90847532]]\n",
      "[ 20.36459757  10.38003819  -1.75425879 -28.99037697]\n"
     ]
    }
   ],
   "source": [
    "for i in range(max_iter):\n",
    "    dat=sc.parallelize(X)\n",
    "    mlr=dat.mapPartitions(lambda x:fit_in(x,mlr,n_classes)).reduce(lambda m1,m2:update_in(m1,m2))\n",
    "    mlr=avg_coefs_in(mlr,dat.getNumPartitions())\n",
    "    diff_coef=mlr.coefs-prev_coef\n",
    "    diff_intercept=mlr.intercept-prev_intercept\n",
    "    coef_norm=np.linalg.norm(diff_coef,ord='fro')**2\n",
    "    gradient_sum=np.sqrt(coef_norm+np.sum(diff_intercept**2))\n",
    "    if gradient_sum<tol:\n",
    "        break\n",
    "    prev_coef=mlr.coefs\n",
    "    prev_intercept=mlr.intercept\n",
    "    np.random.shuffle(X)\n",
    "print(mlr.coefs)\n",
    "print(mlr.intercept)"
   ]
  },
  {
   "cell_type": "code",
   "execution_count": 22,
   "metadata": {},
   "outputs": [],
   "source": [
    "mlr.predict(X[:,:-1])"
   ]
  },
  {
   "cell_type": "code",
   "execution_count": 23,
   "metadata": {},
   "outputs": [
    {
     "data": {
      "text/plain": [
       "array([1, 2, 0, 0, 0, 1, 1, 0, 1, 0, 3, 2, 1, 2, 0, 3, 0, 3, 2, 3, 2, 2,\n",
       "       3, 1, 1, 2, 3, 0, 1, 0, 1, 2, 3, 1, 2, 1, 3, 1, 3, 3, 3, 3, 0, 3,\n",
       "       1, 0, 2, 3, 1, 0, 0, 1, 1, 3, 3, 0, 1, 0, 2, 3, 2, 0, 3, 0, 0, 0,\n",
       "       2, 3, 0, 3, 2, 0, 2, 1, 2, 3, 0, 3, 3, 1, 3, 1, 3, 0, 1, 3, 2, 1,\n",
       "       0, 3, 3, 0, 2, 2, 2, 0, 0, 1, 2, 3, 0, 1, 3, 1, 3, 0, 2, 1, 1, 2,\n",
       "       3, 0, 0, 2, 2, 2, 1, 3, 2, 2, 0, 3, 2, 1, 2, 1, 3, 0, 3, 3, 1, 2,\n",
       "       2, 0, 0, 2, 1, 3, 1, 1, 0, 1, 0, 2, 0, 1, 2, 3, 2, 1, 2, 0, 2, 1,\n",
       "       1, 0, 2, 2, 2, 3, 3, 2, 3, 0, 1, 3, 1, 1, 3, 0, 0, 1, 1, 3, 0, 0,\n",
       "       2, 2, 1, 0, 1, 1, 3, 1, 3, 0, 2, 0, 0, 2, 3, 3, 1, 2, 2, 2, 1, 3,\n",
       "       2, 0], dtype=int64)"
      ]
     },
     "execution_count": 23,
     "metadata": {},
     "output_type": "execute_result"
    }
   ],
   "source": [
    "mlr.predictions"
   ]
  },
  {
   "cell_type": "code",
   "execution_count": 24,
   "metadata": {},
   "outputs": [
    {
     "data": {
      "text/plain": [
       "200"
      ]
     },
     "execution_count": 24,
     "metadata": {},
     "output_type": "execute_result"
    }
   ],
   "source": [
    "sum(X[:,-1]==mlr.predictions)"
   ]
  }
 ],
 "metadata": {
  "kernelspec": {
   "display_name": "Python 3",
   "language": "python",
   "name": "python3"
  },
  "language_info": {
   "codemirror_mode": {
    "name": "ipython",
    "version": 3
   },
   "file_extension": ".py",
   "mimetype": "text/x-python",
   "name": "python",
   "nbconvert_exporter": "python",
   "pygments_lexer": "ipython3",
   "version": "3.7.1"
  }
 },
 "nbformat": 4,
 "nbformat_minor": 2
}
