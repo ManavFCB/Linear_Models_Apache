{
 "cells": [
  {
   "cell_type": "code",
   "execution_count": null,
   "metadata": {},
   "outputs": [],
   "source": [
    "import sys\n",
    "import random\n",
    "from mysvm import SVM\n",
    "import numpy as np\n",
    "from sklearn.linear_model import SGDClassifier as SGD\n",
    "from pyspark import SparkContext,SparkConf\n",
    "from sklearn.base import copy"
   ]
  },
  {
   "cell_type": "markdown",
   "metadata": {},
   "source": [
    "# Spark with SGDClassifier"
   ]
  },
  {
   "cell_type": "code",
   "execution_count": null,
   "metadata": {},
   "outputs": [],
   "source": [
    "def fit_in(x,svm):\n",
    "    for it in x:\n",
    "        X=it[:-1].reshape(1,it.shape[0]-1)\n",
    "        y=np.array([it[-1]])\n",
    "        svm.partial_fit(X,y,classes=[-1,1])\n",
    "    yield svm\n",
    "def update_in(m1,m2):\n",
    "    new_mod=copy.deepcopy(m1)\n",
    "    new_mod.coef_+=m2.coef_\n",
    "    new_mod.intercept_+=m2.intercept_\n",
    "    return new_mod\n",
    "\n",
    "def avg_coefs_in(svm,numpart):\n",
    "    svm.coef_/=numpart\n",
    "    svm.intercept_/=numpart\n",
    "    return svm"
   ]
  },
  {
   "cell_type": "code",
   "execution_count": null,
   "metadata": {},
   "outputs": [],
   "source": [
    "conf=SparkConf().setAppName(\"SVM-SGD\").setMaster('local[4]')"
   ]
  },
  {
   "cell_type": "code",
   "execution_count": null,
   "metadata": {},
   "outputs": [],
   "source": [
    "sc=SparkContext(conf=conf)"
   ]
  },
  {
   "cell_type": "code",
   "execution_count": null,
   "metadata": {},
   "outputs": [],
   "source": [
    "X1=5*np.random.random((400,2))-3\n",
    "y1=-1*np.ones(X1.shape[0])\n",
    "X2=6*(np.random.random((400,2)))+7\n",
    "y2=np.ones(X2.shape[0])\n",
    "y=np.hstack((y1,y2))\n",
    "X=np.vstack((X1,X2))\n",
    "y=y.reshape(y.shape[0],1)\n",
    "X=np.hstack((X,y))"
   ]
  },
  {
   "cell_type": "code",
   "execution_count": null,
   "metadata": {},
   "outputs": [],
   "source": [
    "svm=SGD(alpha=1,learning_rate='constant',eta0=0.1)\n",
    "prev_coef=np.zeros(X.shape[1]-1)\n",
    "prev_intercept=0\n",
    "tol=0.001\n",
    "max_iter=300"
   ]
  },
  {
   "cell_type": "code",
   "execution_count": null,
   "metadata": {},
   "outputs": [],
   "source": [
    "for i in range(max_iter):\n",
    "    dat=sc.parallelize(X)\n",
    "    svm=dat.mapPartitions(lambda x:fit_in(x,svm)).reduce(lambda m1,m2:update_in(m1,m2))\n",
    "    svm=avg_coefs_in(svm,dat.getNumPartitions())\n",
    "    diff_coef=svm.coef_[0]-prev_coef\n",
    "    diff_intercept=svm.intercept_[0]-prev_intercept\n",
    "    gradient_sum=np.sqrt(np.dot(diff_coef,diff_coef)+diff_intercept**2)\n",
    "    if gradient_sum<tol:\n",
    "        break\n",
    "    prev_coef=svm.coef_[0]\n",
    "    prev_intercept=svm.intercept_[0]\n",
    "    np.random.shuffle(X)\n",
    "print(svm.coef_)\n",
    "print(svm.intercept_)"
   ]
  },
  {
   "cell_type": "code",
   "execution_count": null,
   "metadata": {},
   "outputs": [],
   "source": [
    "import seaborn as sns"
   ]
  },
  {
   "cell_type": "code",
   "execution_count": null,
   "metadata": {},
   "outputs": [],
   "source": [
    "def hyperplane(X,svm):\n",
    "    y=-(svm.intercept_+np.dot(X[:,:-1],svm.coef_[0][:-1]))/svm.coef_[0][-1]\n",
    "    return y\n",
    "def support_vec(X,svm,off):\n",
    "    y=(off-svm.intercept_-np.dot(X[:,:-1],svm.coef_[0][:-1]))/svm.coef_[0][-1]\n",
    "    return y\n"
   ]
  },
  {
   "cell_type": "code",
   "execution_count": null,
   "metadata": {},
   "outputs": [],
   "source": [
    "y=hyperplane(X[:,:-1],svm)\n",
    "s1=support_vec(X[:,:-1],svm,1)\n",
    "s2=support_vec(X[:,:-1],svm,-1)\n",
    "sns.scatterplot(X[:,0],X[:,1],hue=X[:,-1])\n",
    "sns.lineplot(X[:,0],s1)\n",
    "sns.lineplot(X[:,0],s2)\n",
    "sns.lineplot(X[:,0],y)"
   ]
  },
  {
   "cell_type": "markdown",
   "metadata": {},
   "source": [
    "## Spark with my implementation of SVM using SGD"
   ]
  },
  {
   "cell_type": "code",
   "execution_count": null,
   "metadata": {},
   "outputs": [],
   "source": [
    "def fit(x,svm):\n",
    "    for it in x:\n",
    "        X=it[:-1].reshape(1,it.shape[0]-1)\n",
    "        y=np.array([it[-1]])\n",
    "        svm.partial_fit(X,y)\n",
    "    yield svm\n",
    "def update(m1,m2):\n",
    "    new_mod=copy.deepcopy(m1)\n",
    "    new_mod.weights+=m2.weights\n",
    "    new_mod.intercept+=m2.intercept\n",
    "    return new_mod\n",
    "\n",
    "def avg_coefs(svm,numpart):\n",
    "    svm.weights/=numpart\n",
    "    svm.intercept/=numpart\n",
    "    return svm"
   ]
  },
  {
   "cell_type": "code",
   "execution_count": null,
   "metadata": {},
   "outputs": [],
   "source": [
    "max_iter=20\n",
    "l=1\n",
    "alpha=0.01\n",
    "sv=SVM(alpha,max_iter,l)\n",
    "prev_coef=np.zeros(X.shape[1]-1)\n",
    "prev_intercept=0\n",
    "tol=0.001"
   ]
  },
  {
   "cell_type": "code",
   "execution_count": null,
   "metadata": {
    "scrolled": true
   },
   "outputs": [],
   "source": [
    "for i in range(max_iter):\n",
    "    dat=sc.parallelize(X)\n",
    "    sv=dat.mapPartitions(lambda x:fit(x,sv)).reduce(lambda m1,m2:update(m1,m2))\n",
    "    sv=avg_coefs(sv,dat.getNumPartitions())\n",
    "    diff_coef=sv.weights-prev_coef\n",
    "    diff_intercept=sv.intercept-prev_intercept\n",
    "    gradient_sum=np.sqrt(np.dot(diff_coef,diff_coef)+diff_intercept**2)\n",
    "    if gradient_sum<tol:\n",
    "        break\n",
    "    prev_coef=sv.weights\n",
    "    prev_intercept=sv.intercept\n",
    "    np.random.shuffle(X)\n",
    "print(sv.weights)\n",
    "print(sv.intercept)"
   ]
  },
  {
   "cell_type": "code",
   "execution_count": null,
   "metadata": {},
   "outputs": [],
   "source": [
    "y=sv.hyperplane_coord(X[:,:-1])\n",
    "s1=sv.support_vec(X[:,:-1],1)\n",
    "s2=sv.support_vec(X[:,:-1],-1)\n",
    "sns.scatterplot(X[:,0],X[:,1],hue=X[:,-1])\n",
    "sns.lineplot(X[:,0],s1)\n",
    "sns.lineplot(X[:,0],s2)\n",
    "sns.lineplot(X[:,0],y)"
   ]
  }
 ],
 "metadata": {
  "kernelspec": {
   "display_name": "Python 3",
   "language": "python",
   "name": "python3"
  },
  "language_info": {
   "codemirror_mode": {
    "name": "ipython",
    "version": 3
   },
   "file_extension": ".py",
   "mimetype": "text/x-python",
   "name": "python",
   "nbconvert_exporter": "python",
   "pygments_lexer": "ipython3",
   "version": "3.7.1"
  }
 },
 "nbformat": 4,
 "nbformat_minor": 2
}
